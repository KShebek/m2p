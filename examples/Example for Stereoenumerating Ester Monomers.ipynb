{
 "cells": [
  {
   "cell_type": "markdown",
   "source": [
    "# Example Showing How To Enumerate Stereoisomers of Esters\n",
    "Takes inputs of monomers and searches for a backbone consisting of a carboxylic acid and an alcohol. Then walks the backbone, creating S/R enantiomers for any stereosites along the way.\n",
    "\n",
    "This code does not create diastereomers--it only modifies one stereosite at a time and wipes it when it is done.\n",
    "\n",
    "-------\n",
    "### **!!! Assumes there is only one acid and one aliphatic alcohol in the molecule !!!**\n",
    "\n",
    "-------"
   ],
   "metadata": {}
  },
  {
   "cell_type": "markdown",
   "source": [
    "## Imports and Utility Function Definitions"
   ],
   "metadata": {}
  },
  {
   "cell_type": "code",
   "execution_count": 5,
   "source": [
    "from rdkit import Chem\n",
    "from rdkit.Chem import AllChem\n",
    "import pandas as pd\n",
    "from m2p import PolyMaker, Monomer\n",
    "\n",
    "pm = PolyMaker()\n",
    "\n",
    "def mfs(smi):\n",
    "    return Chem.MolFromSmiles(smi)\n",
    "\n",
    "def flatten(l):\n",
    "    flat_l = []\n",
    "    for sublist in l:\n",
    "        # Don't flatten single strings\n",
    "        if isinstance(sublist, str):\n",
    "            flat_l.append(sublist)\n",
    "        else:\n",
    "            for item in sublist:\n",
    "                flat_l.append(item)\n",
    "    \n",
    "    return flat_l"
   ],
   "outputs": [],
   "metadata": {}
  },
  {
   "cell_type": "markdown",
   "source": [
    "## Generate Enantiomers of Monomer"
   ],
   "metadata": {}
  },
  {
   "cell_type": "code",
   "execution_count": 7,
   "source": [
    "smi = \"O=C(O)C(C)CC(CC(C))CO\"\n",
    "monomer = Monomer(smi)\n",
    "enant_smi = monomer.esterification_enantiomers\n",
    "print(enant_smi)"
   ],
   "outputs": [
    {
     "output_type": "stream",
     "name": "stdout",
     "text": [
      "[('CCCC(CO)C[C@H](C)C(=O)O', 'CCCC(CO)C[C@@H](C)C(=O)O'), ('CCC[C@@H](CO)CC(C)C(=O)O', 'CCC[C@H](CO)CC(C)C(=O)O')]\n"
     ]
    }
   ],
   "metadata": {}
  },
  {
   "cell_type": "code",
   "execution_count": 8,
   "metadata": {},
   "outputs": [
    {
     "output_type": "execute_result",
     "data": {
      "text/plain": [
       "<PIL.Image.Image image mode=RGBA size=1000x200 at 0x7F9470AF3490>"
      ],
      "image/png": "[encoded data removed]"
     },
     "metadata": {},
     "execution_count": 8
    }
   ],
   "source": [
    "\n",
    "# Plot mols\n",
    "mols = [mfs(s) for s in flatten([smi] + enant_smi)]\n",
    "Chem.Draw.MolsToImage(mols)"
   ]
  }
 ],
 "metadata": {
  "orig_nbformat": 4,
  "language_info": {
   "name": "python",
   "version": "3.9.5",
   "mimetype": "text/x-python",
   "codemirror_mode": {
    "name": "ipython",
    "version": 3
   },
   "pygments_lexer": "ipython3",
   "nbconvert_exporter": "python",
   "file_extension": ".py"
  },
  "kernelspec": {
   "name": "python3",
   "display_name": "Python 3.9.5 64-bit ('poly': conda)"
  },
  "interpreter": {
   "hash": "24b42c19972f4c982fcb219984ace17df0e3361e681a346d42610ec41cd61d38"
  }
 },
 "nbformat": 4,
 "nbformat_minor": 2
}