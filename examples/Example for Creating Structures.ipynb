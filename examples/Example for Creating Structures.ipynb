{
 "cells": [
  {
   "cell_type": "code",
   "execution_count": 1,
   "metadata": {},
   "outputs": [],
   "source": [
    "import pandas as pd\n",
    "from m2p import PolyMaker\n",
    "from rdkit import Chem\n",
    "\n",
    "pm = PolyMaker()"
   ]
  },
  {
   "cell_type": "code",
   "execution_count": 2,
   "metadata": {},
   "outputs": [
    {
     "name": "stderr",
     "output_type": "stream",
     "text": [
      "100%|██████████| 4/4 [00:00<00:00, 15.76it/s]\n",
      "100%|██████████| 4/4 [00:00<00:00, 17.39it/s]\n",
      "100%|██████████| 4/4 [00:00<00:00, 17.80it/s]\n"
     ]
    },
    {
     "data": {
      "text/html": [
       "<div>\n",
       "<style scoped>\n",
       "    .dataframe tbody tr th:only-of-type {\n",
       "        vertical-align: middle;\n",
       "    }\n",
       "\n",
       "    .dataframe tbody tr th {\n",
       "        vertical-align: top;\n",
       "    }\n",
       "\n",
       "    .dataframe thead th {\n",
       "        text-align: right;\n",
       "    }\n",
       "</style>\n",
       "<table border=\"1\" class=\"dataframe\">\n",
       "  <thead>\n",
       "    <tr style=\"text-align: right;\">\n",
       "      <th></th>\n",
       "      <th>smiles</th>\n",
       "      <th>monomers</th>\n",
       "      <th>replicate_structure</th>\n",
       "      <th>polymer</th>\n",
       "      <th>mechanism</th>\n",
       "    </tr>\n",
       "  </thead>\n",
       "  <tbody>\n",
       "    <tr>\n",
       "      <th>PE</th>\n",
       "      <td>C=C</td>\n",
       "      <td>('C=C',)</td>\n",
       "      <td>0</td>\n",
       "      <td>CCCCCCCCCC</td>\n",
       "      <td>vinyl</td>\n",
       "    </tr>\n",
       "    <tr>\n",
       "      <th>PP</th>\n",
       "      <td>C=CC</td>\n",
       "      <td>('C=CC',)</td>\n",
       "      <td>0</td>\n",
       "      <td>CCCCC(C)CC(C)C(C)CCCC</td>\n",
       "      <td>vinyl</td>\n",
       "    </tr>\n",
       "    <tr>\n",
       "      <th>PET</th>\n",
       "      <td>O=C(O)c1ccc(C(=O)O)cc1.OCCO</td>\n",
       "      <td>('O=C(O)c1ccc(C(=O)O)cc1', 'OCCO')</td>\n",
       "      <td>0</td>\n",
       "      <td>O=C(O)c1ccc(C(=O)OCCOC(=O)c2ccc(C(=O)OCCOC(=O)...</td>\n",
       "      <td>ester</td>\n",
       "    </tr>\n",
       "    <tr>\n",
       "      <th>PE-co-PP</th>\n",
       "      <td>C=C.C=CC</td>\n",
       "      <td>('C=C', 'C=CC')</td>\n",
       "      <td>0</td>\n",
       "      <td>CCCCCCCCCCC</td>\n",
       "      <td>vinyl</td>\n",
       "    </tr>\n",
       "    <tr>\n",
       "      <th>PE</th>\n",
       "      <td>C=C</td>\n",
       "      <td>('C=C',)</td>\n",
       "      <td>1</td>\n",
       "      <td>CCCCCCCCCC</td>\n",
       "      <td>vinyl</td>\n",
       "    </tr>\n",
       "  </tbody>\n",
       "</table>\n",
       "</div>"
      ],
      "text/plain": [
       "                               smiles                            monomers  \\\n",
       "PE                                C=C                            ('C=C',)   \n",
       "PP                               C=CC                           ('C=CC',)   \n",
       "PET       O=C(O)c1ccc(C(=O)O)cc1.OCCO  ('O=C(O)c1ccc(C(=O)O)cc1', 'OCCO')   \n",
       "PE-co-PP                     C=C.C=CC                     ('C=C', 'C=CC')   \n",
       "PE                                C=C                            ('C=C',)   \n",
       "\n",
       "          replicate_structure  \\\n",
       "PE                          0   \n",
       "PP                          0   \n",
       "PET                         0   \n",
       "PE-co-PP                    0   \n",
       "PE                          1   \n",
       "\n",
       "                                                    polymer mechanism  \n",
       "PE                                               CCCCCCCCCC     vinyl  \n",
       "PP                                    CCCCC(C)CC(C)C(C)CCCC     vinyl  \n",
       "PET       O=C(O)c1ccc(C(=O)OCCOC(=O)c2ccc(C(=O)OCCOC(=O)...     ester  \n",
       "PE-co-PP                                        CCCCCCCCCCC     vinyl  \n",
       "PE                                               CCCCCCCCCC     vinyl  "
      ]
     },
     "execution_count": 2,
     "metadata": {},
     "output_type": "execute_result"
    }
   ],
   "source": [
    "# create dataset\n",
    "data = pd.DataFrame({'smiles':['C=C','C=CC','O=C(O)c1ccc(C(=O)O)cc1.OCCO','C=C.C=CC']},\n",
    "                    index=['PE','PP','PET','PE-co-PP'])\n",
    "\n",
    "# get monomers from smiiles strings\n",
    "data['monomers'] = data.smiles.apply(lambda s: pm.get_monomers(s))\n",
    "\n",
    "# polymerize \n",
    "data = pm.polymerize(data,DP=5,mechanism='all',replicate_structures=3)\n",
    "\n",
    "# output\n",
    "data.head()"
   ]
  },
  {
   "cell_type": "code",
   "execution_count": 3,
   "metadata": {},
   "outputs": [
    {
     "data": {
      "image/png": "[encoded data removed]",
      "text/plain": [
       "<PIL.PngImagePlugin.PngImageFile image mode=RGB size=600x800 at 0x11E3F69B0>"
      ]
     },
     "execution_count": 3,
     "metadata": {},
     "output_type": "execute_result"
    }
   ],
   "source": [
    "# draw\n",
    "Chem.Draw.MolsToGridImage([Chem.MolFromSmiles(s) for s in data.sort_index().polymer],molsPerRow=3)"
   ]
  }
 ],
 "metadata": {
  "kernelspec": {
   "display_name": "Python [conda env:analysis] *",
   "language": "python",
   "name": "conda-env-analysis-py"
  },
  "language_info": {
   "codemirror_mode": {
    "name": "ipython",
    "version": 3
   },
   "file_extension": ".py",
   "mimetype": "text/x-python",
   "name": "python",
   "nbconvert_exporter": "python",
   "pygments_lexer": "ipython3",
   "version": "3.6.10"
  }
 },
 "nbformat": 4,
 "nbformat_minor": 4
}
